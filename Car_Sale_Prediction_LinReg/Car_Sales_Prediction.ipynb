{
 "cells": [
  {
   "attachments": {},
   "cell_type": "markdown",
   "metadata": {},
   "source": [
    "<br/><br/>\n",
    "#  Car Sales Prediction - Linear Regression<br/>\n",
    "\n",
    "\n",
    "<img src ='https://img.indianauto.com/2020/01/24/Gruom402/car-sale-17cd.png' width=\"450\"  height=\"400\">"
   ]
  },
  {
   "cell_type": "markdown",
   "metadata": {},
   "source": [
    "## Table of Content\n",
    "\n",
    "1. [Problem Statement](#section1)<br>\n",
    "2. [Data Loading and Description](#section2)<br>\n",
    "3. [Linear Regression using Python Scikit Learn](#section3)\n",
    "    - 3.1 [Preparing data (X and y) for Linear Regression using Pandas](#section301)<br>\n",
    "    - 3.2 [Selecting independent features X and depedent variable y](#section302)<br>\n",
    "    - 3.3 [Splitting X and y into training and test datasets](#section303)<br>\n",
    "    - 3.4 [Fit Linear Regression model in scikit-learn](#section304)<br>\n",
    "    - 3.5 [Interpreting Model Coefficients](#section305)<br/>\n",
    "4. [Model evaluation](#section4)\n",
    "    - 4.1 [Model evaluation using metrics](#section401)<br>\n",
    "    - 4.2 [Model Evaluation using Rsquared value.](#section402)<br>"
   ]
  },
  {
   "cell_type": "markdown",
   "metadata": {},
   "source": [
    "<a id=section1></a>\n",
    "## 1. Problem Statement\n",
    "\n",
    "This dataset describes the sale value of various cars given car parameters like price, engine_size, fuel_efficiency etc.<br/>\n",
    "You have to create a linear regression model using the provided predictor variables for the prediction of car sales."
   ]
  },
  {
   "cell_type": "markdown",
   "metadata": {},
   "source": [
    "<a id=section2></a>\n",
    "\n",
    "## 2. Data Loading and Description\n",
    "\n",
    "The dataset has 156 observation and 16 variables(columns)."
   ]
  },
  {
   "cell_type": "markdown",
   "metadata": {},
   "source": [
    "### Importing Packages"
   ]
  },
  {
   "cell_type": "code",
   "execution_count": 99,
   "metadata": {},
   "outputs": [],
   "source": [
    "import pandas as pd\n",
    "import seaborn as sns\n",
    "import matplotlib.pyplot as plt\n",
    "\n",
    "\n",
    "from sklearn import metrics\n",
    "\n",
    "import numpy as np\n",
    "\n",
    "# allow plots to appear directly in the notebook\n",
    "%matplotlib inline"
   ]
  },
  {
   "cell_type": "code",
   "execution_count": 100,
   "metadata": {},
   "outputs": [
    {
     "data": {
      "text/html": [
       "<div>\n",
       "<style scoped>\n",
       "    .dataframe tbody tr th:only-of-type {\n",
       "        vertical-align: middle;\n",
       "    }\n",
       "\n",
       "    .dataframe tbody tr th {\n",
       "        vertical-align: top;\n",
       "    }\n",
       "\n",
       "    .dataframe thead th {\n",
       "        text-align: right;\n",
       "    }\n",
       "</style>\n",
       "<table border=\"1\" class=\"dataframe\">\n",
       "  <thead>\n",
       "    <tr style=\"text-align: right;\">\n",
       "      <th></th>\n",
       "      <th>Manufacturer</th>\n",
       "      <th>Model</th>\n",
       "      <th>Sales_in_thousands</th>\n",
       "      <th>_year_resale_value</th>\n",
       "      <th>Vehicle_type</th>\n",
       "      <th>Price_in_thousands</th>\n",
       "      <th>Engine_size</th>\n",
       "      <th>Horsepower</th>\n",
       "      <th>Wheelbase</th>\n",
       "      <th>Width</th>\n",
       "      <th>Length</th>\n",
       "      <th>Curb_weight</th>\n",
       "      <th>Fuel_capacity</th>\n",
       "      <th>Fuel_efficiency</th>\n",
       "      <th>Latest_Launch</th>\n",
       "      <th>Power_perf_factor</th>\n",
       "    </tr>\n",
       "  </thead>\n",
       "  <tbody>\n",
       "    <tr>\n",
       "      <th>0</th>\n",
       "      <td>Acura</td>\n",
       "      <td>Integra</td>\n",
       "      <td>16.919</td>\n",
       "      <td>16.360</td>\n",
       "      <td>Passenger</td>\n",
       "      <td>21.50</td>\n",
       "      <td>1.8</td>\n",
       "      <td>140</td>\n",
       "      <td>101.2</td>\n",
       "      <td>67.3</td>\n",
       "      <td>172.4</td>\n",
       "      <td>2.639</td>\n",
       "      <td>13.2</td>\n",
       "      <td>28</td>\n",
       "      <td>2/2/2012</td>\n",
       "      <td>58.280150</td>\n",
       "    </tr>\n",
       "    <tr>\n",
       "      <th>1</th>\n",
       "      <td>Acura</td>\n",
       "      <td>TL</td>\n",
       "      <td>39.384</td>\n",
       "      <td>19.875</td>\n",
       "      <td>Passenger</td>\n",
       "      <td>28.40</td>\n",
       "      <td>3.2</td>\n",
       "      <td>225</td>\n",
       "      <td>108.1</td>\n",
       "      <td>70.3</td>\n",
       "      <td>192.9</td>\n",
       "      <td>3.517</td>\n",
       "      <td>17.2</td>\n",
       "      <td>25</td>\n",
       "      <td>6/3/2011</td>\n",
       "      <td>91.370778</td>\n",
       "    </tr>\n",
       "    <tr>\n",
       "      <th>2</th>\n",
       "      <td>Acura</td>\n",
       "      <td>CL</td>\n",
       "      <td>14.114</td>\n",
       "      <td>18.225</td>\n",
       "      <td>Passenger</td>\n",
       "      <td>29.00</td>\n",
       "      <td>3.2</td>\n",
       "      <td>225</td>\n",
       "      <td>106.9</td>\n",
       "      <td>70.6</td>\n",
       "      <td>192.0</td>\n",
       "      <td>3.470</td>\n",
       "      <td>17.2</td>\n",
       "      <td>26</td>\n",
       "      <td>1/4/2012</td>\n",
       "      <td>90.345000</td>\n",
       "    </tr>\n",
       "    <tr>\n",
       "      <th>3</th>\n",
       "      <td>Acura</td>\n",
       "      <td>RL</td>\n",
       "      <td>8.588</td>\n",
       "      <td>29.725</td>\n",
       "      <td>Passenger</td>\n",
       "      <td>42.00</td>\n",
       "      <td>3.5</td>\n",
       "      <td>210</td>\n",
       "      <td>114.6</td>\n",
       "      <td>71.4</td>\n",
       "      <td>196.6</td>\n",
       "      <td>3.850</td>\n",
       "      <td>18.0</td>\n",
       "      <td>22</td>\n",
       "      <td>3/10/2011</td>\n",
       "      <td>91.389779</td>\n",
       "    </tr>\n",
       "    <tr>\n",
       "      <th>4</th>\n",
       "      <td>Audi</td>\n",
       "      <td>A4</td>\n",
       "      <td>20.397</td>\n",
       "      <td>22.255</td>\n",
       "      <td>Passenger</td>\n",
       "      <td>23.99</td>\n",
       "      <td>1.8</td>\n",
       "      <td>150</td>\n",
       "      <td>102.6</td>\n",
       "      <td>68.2</td>\n",
       "      <td>178.0</td>\n",
       "      <td>2.998</td>\n",
       "      <td>16.4</td>\n",
       "      <td>27</td>\n",
       "      <td>10/8/2011</td>\n",
       "      <td>62.777639</td>\n",
       "    </tr>\n",
       "  </tbody>\n",
       "</table>\n",
       "</div>"
      ],
      "text/plain": [
       "  Manufacturer    Model  Sales_in_thousands  _year_resale_value Vehicle_type  \\\n",
       "0        Acura  Integra              16.919              16.360    Passenger   \n",
       "1        Acura       TL              39.384              19.875    Passenger   \n",
       "2        Acura       CL              14.114              18.225    Passenger   \n",
       "3        Acura       RL               8.588              29.725    Passenger   \n",
       "4         Audi       A4              20.397              22.255    Passenger   \n",
       "\n",
       "   Price_in_thousands  Engine_size  Horsepower  Wheelbase  Width  Length  \\\n",
       "0               21.50          1.8         140      101.2   67.3   172.4   \n",
       "1               28.40          3.2         225      108.1   70.3   192.9   \n",
       "2               29.00          3.2         225      106.9   70.6   192.0   \n",
       "3               42.00          3.5         210      114.6   71.4   196.6   \n",
       "4               23.99          1.8         150      102.6   68.2   178.0   \n",
       "\n",
       "   Curb_weight  Fuel_capacity  Fuel_efficiency Latest_Launch  \\\n",
       "0        2.639           13.2               28      2/2/2012   \n",
       "1        3.517           17.2               25      6/3/2011   \n",
       "2        3.470           17.2               26      1/4/2012   \n",
       "3        3.850           18.0               22     3/10/2011   \n",
       "4        2.998           16.4               27     10/8/2011   \n",
       "\n",
       "   Power_perf_factor  \n",
       "0          58.280150  \n",
       "1          91.370778  \n",
       "2          90.345000  \n",
       "3          91.389779  \n",
       "4          62.777639  "
      ]
     },
     "execution_count": 100,
     "metadata": {},
     "output_type": "execute_result"
    }
   ],
   "source": [
    "# reading the car sales dataset\n",
    "\n",
    "car = pd.read_csv(\"https://raw.githubusercontent.com/insaid2018/Term-2/master/Data/car_sales.csv\")\n",
    "\n",
    "car.head()"
   ]
  },
  {
   "cell_type": "code",
   "execution_count": 101,
   "metadata": {},
   "outputs": [
    {
     "name": "stdout",
     "output_type": "stream",
     "text": [
      "<class 'pandas.core.frame.DataFrame'>\n",
      "RangeIndex: 156 entries, 0 to 155\n",
      "Data columns (total 16 columns):\n",
      " #   Column              Non-Null Count  Dtype  \n",
      "---  ------              --------------  -----  \n",
      " 0   Manufacturer        156 non-null    object \n",
      " 1   Model               156 non-null    object \n",
      " 2   Sales_in_thousands  151 non-null    float64\n",
      " 3   _year_resale_value  156 non-null    float64\n",
      " 4   Vehicle_type        156 non-null    object \n",
      " 5   Price_in_thousands  156 non-null    float64\n",
      " 6   Engine_size         156 non-null    float64\n",
      " 7   Horsepower          156 non-null    int64  \n",
      " 8   Wheelbase           156 non-null    float64\n",
      " 9   Width               156 non-null    float64\n",
      " 10  Length              156 non-null    float64\n",
      " 11  Curb_weight         156 non-null    float64\n",
      " 12  Fuel_capacity       156 non-null    float64\n",
      " 13  Fuel_efficiency     156 non-null    int64  \n",
      " 14  Latest_Launch       156 non-null    object \n",
      " 15  Power_perf_factor   156 non-null    float64\n",
      "dtypes: float64(10), int64(2), object(4)\n",
      "memory usage: 19.6+ KB\n"
     ]
    },
    {
     "data": {
      "text/html": [
       "<div>\n",
       "<style scoped>\n",
       "    .dataframe tbody tr th:only-of-type {\n",
       "        vertical-align: middle;\n",
       "    }\n",
       "\n",
       "    .dataframe tbody tr th {\n",
       "        vertical-align: top;\n",
       "    }\n",
       "\n",
       "    .dataframe thead th {\n",
       "        text-align: right;\n",
       "    }\n",
       "</style>\n",
       "<table border=\"1\" class=\"dataframe\">\n",
       "  <thead>\n",
       "    <tr style=\"text-align: right;\">\n",
       "      <th></th>\n",
       "      <th>Sales_in_thousands</th>\n",
       "      <th>_year_resale_value</th>\n",
       "      <th>Price_in_thousands</th>\n",
       "      <th>Engine_size</th>\n",
       "      <th>Horsepower</th>\n",
       "      <th>Wheelbase</th>\n",
       "      <th>Width</th>\n",
       "      <th>Length</th>\n",
       "      <th>Curb_weight</th>\n",
       "      <th>Fuel_capacity</th>\n",
       "      <th>Fuel_efficiency</th>\n",
       "      <th>Power_perf_factor</th>\n",
       "    </tr>\n",
       "  </thead>\n",
       "  <tbody>\n",
       "    <tr>\n",
       "      <th>count</th>\n",
       "      <td>151.000000</td>\n",
       "      <td>156.000000</td>\n",
       "      <td>156.000000</td>\n",
       "      <td>156.000000</td>\n",
       "      <td>156.000000</td>\n",
       "      <td>156.000000</td>\n",
       "      <td>156.000000</td>\n",
       "      <td>156.000000</td>\n",
       "      <td>156.000000</td>\n",
       "      <td>156.000000</td>\n",
       "      <td>156.000000</td>\n",
       "      <td>156.000000</td>\n",
       "    </tr>\n",
       "    <tr>\n",
       "      <th>mean</th>\n",
       "      <td>52.051742</td>\n",
       "      <td>18.063571</td>\n",
       "      <td>27.401071</td>\n",
       "      <td>3.060897</td>\n",
       "      <td>185.948718</td>\n",
       "      <td>107.487179</td>\n",
       "      <td>71.150000</td>\n",
       "      <td>187.343590</td>\n",
       "      <td>3.380462</td>\n",
       "      <td>17.951923</td>\n",
       "      <td>23.833333</td>\n",
       "      <td>77.128857</td>\n",
       "    </tr>\n",
       "    <tr>\n",
       "      <th>std</th>\n",
       "      <td>68.907116</td>\n",
       "      <td>10.076941</td>\n",
       "      <td>14.305863</td>\n",
       "      <td>1.044653</td>\n",
       "      <td>56.700321</td>\n",
       "      <td>7.641303</td>\n",
       "      <td>3.451872</td>\n",
       "      <td>13.431754</td>\n",
       "      <td>0.629200</td>\n",
       "      <td>3.887921</td>\n",
       "      <td>4.256052</td>\n",
       "      <td>25.084045</td>\n",
       "    </tr>\n",
       "    <tr>\n",
       "      <th>min</th>\n",
       "      <td>0.110000</td>\n",
       "      <td>5.160000</td>\n",
       "      <td>9.235000</td>\n",
       "      <td>1.000000</td>\n",
       "      <td>55.000000</td>\n",
       "      <td>92.600000</td>\n",
       "      <td>62.600000</td>\n",
       "      <td>149.400000</td>\n",
       "      <td>1.895000</td>\n",
       "      <td>10.300000</td>\n",
       "      <td>15.000000</td>\n",
       "      <td>23.276272</td>\n",
       "    </tr>\n",
       "    <tr>\n",
       "      <th>25%</th>\n",
       "      <td>13.630000</td>\n",
       "      <td>12.527500</td>\n",
       "      <td>18.081250</td>\n",
       "      <td>2.300000</td>\n",
       "      <td>149.500000</td>\n",
       "      <td>103.000000</td>\n",
       "      <td>68.400000</td>\n",
       "      <td>177.575000</td>\n",
       "      <td>2.973000</td>\n",
       "      <td>15.800000</td>\n",
       "      <td>21.000000</td>\n",
       "      <td>60.567577</td>\n",
       "    </tr>\n",
       "    <tr>\n",
       "      <th>50%</th>\n",
       "      <td>27.609000</td>\n",
       "      <td>17.617500</td>\n",
       "      <td>23.099500</td>\n",
       "      <td>3.000000</td>\n",
       "      <td>177.500000</td>\n",
       "      <td>107.000000</td>\n",
       "      <td>70.550000</td>\n",
       "      <td>187.900000</td>\n",
       "      <td>3.355000</td>\n",
       "      <td>17.200000</td>\n",
       "      <td>24.000000</td>\n",
       "      <td>72.160636</td>\n",
       "    </tr>\n",
       "    <tr>\n",
       "      <th>75%</th>\n",
       "      <td>65.905500</td>\n",
       "      <td>18.089731</td>\n",
       "      <td>31.938750</td>\n",
       "      <td>3.575000</td>\n",
       "      <td>215.000000</td>\n",
       "      <td>112.200000</td>\n",
       "      <td>73.425000</td>\n",
       "      <td>196.125000</td>\n",
       "      <td>3.788750</td>\n",
       "      <td>19.575000</td>\n",
       "      <td>26.000000</td>\n",
       "      <td>89.623790</td>\n",
       "    </tr>\n",
       "    <tr>\n",
       "      <th>max</th>\n",
       "      <td>540.561000</td>\n",
       "      <td>67.550000</td>\n",
       "      <td>85.500000</td>\n",
       "      <td>8.000000</td>\n",
       "      <td>450.000000</td>\n",
       "      <td>138.700000</td>\n",
       "      <td>79.900000</td>\n",
       "      <td>224.500000</td>\n",
       "      <td>5.572000</td>\n",
       "      <td>32.000000</td>\n",
       "      <td>45.000000</td>\n",
       "      <td>188.144323</td>\n",
       "    </tr>\n",
       "  </tbody>\n",
       "</table>\n",
       "</div>"
      ],
      "text/plain": [
       "       Sales_in_thousands  _year_resale_value  Price_in_thousands  \\\n",
       "count          151.000000          156.000000          156.000000   \n",
       "mean            52.051742           18.063571           27.401071   \n",
       "std             68.907116           10.076941           14.305863   \n",
       "min              0.110000            5.160000            9.235000   \n",
       "25%             13.630000           12.527500           18.081250   \n",
       "50%             27.609000           17.617500           23.099500   \n",
       "75%             65.905500           18.089731           31.938750   \n",
       "max            540.561000           67.550000           85.500000   \n",
       "\n",
       "       Engine_size  Horsepower   Wheelbase       Width      Length  \\\n",
       "count   156.000000  156.000000  156.000000  156.000000  156.000000   \n",
       "mean      3.060897  185.948718  107.487179   71.150000  187.343590   \n",
       "std       1.044653   56.700321    7.641303    3.451872   13.431754   \n",
       "min       1.000000   55.000000   92.600000   62.600000  149.400000   \n",
       "25%       2.300000  149.500000  103.000000   68.400000  177.575000   \n",
       "50%       3.000000  177.500000  107.000000   70.550000  187.900000   \n",
       "75%       3.575000  215.000000  112.200000   73.425000  196.125000   \n",
       "max       8.000000  450.000000  138.700000   79.900000  224.500000   \n",
       "\n",
       "       Curb_weight  Fuel_capacity  Fuel_efficiency  Power_perf_factor  \n",
       "count   156.000000     156.000000       156.000000         156.000000  \n",
       "mean      3.380462      17.951923        23.833333          77.128857  \n",
       "std       0.629200       3.887921         4.256052          25.084045  \n",
       "min       1.895000      10.300000        15.000000          23.276272  \n",
       "25%       2.973000      15.800000        21.000000          60.567577  \n",
       "50%       3.355000      17.200000        24.000000          72.160636  \n",
       "75%       3.788750      19.575000        26.000000          89.623790  \n",
       "max       5.572000      32.000000        45.000000         188.144323  "
      ]
     },
     "execution_count": 101,
     "metadata": {},
     "output_type": "execute_result"
    }
   ],
   "source": [
    "# understanding the dataset\n",
    "\n",
    "car.info()\n",
    "car.describe()"
   ]
  },
  {
   "cell_type": "markdown",
   "metadata": {},
   "source": [
    "## To remove Nan values"
   ]
  },
  {
   "cell_type": "markdown",
   "metadata": {},
   "source": [
    "info()  shows 'Sales_in_thousands' column has 5 null values.__Verifying__ - "
   ]
  },
  {
   "cell_type": "code",
   "execution_count": 102,
   "metadata": {},
   "outputs": [
    {
     "data": {
      "text/plain": [
       "5"
      ]
     },
     "execution_count": 102,
     "metadata": {},
     "output_type": "execute_result"
    }
   ],
   "source": [
    "car[\"Sales_in_thousands\"].isnull().sum()"
   ]
  },
  {
   "cell_type": "markdown",
   "metadata": {},
   "source": [
    "'Sales_in_thousands' has 5 null values. We need to fill these null values with non-null values.\n",
    "- car.groupby(\"Manufacturer\")[\"Sales_in_thousands\"].transform(\"median\") - Here we group the cars by 'Manufacturer' and find the median of 'Sales_in_thousands' for each group. Then the NULL values are filled with the median for the group it belongs to. "
   ]
  },
  {
   "cell_type": "code",
   "execution_count": 103,
   "metadata": {},
   "outputs": [
    {
     "data": {
      "text/plain": [
       "Manufacturer          0\n",
       "Model                 0\n",
       "Sales_in_thousands    0\n",
       "_year_resale_value    0\n",
       "Vehicle_type          0\n",
       "Price_in_thousands    0\n",
       "Engine_size           0\n",
       "Horsepower            0\n",
       "Wheelbase             0\n",
       "Width                 0\n",
       "Length                0\n",
       "Curb_weight           0\n",
       "Fuel_capacity         0\n",
       "Fuel_efficiency       0\n",
       "Latest_Launch         0\n",
       "Power_perf_factor     0\n",
       "dtype: int64"
      ]
     },
     "execution_count": 103,
     "metadata": {},
     "output_type": "execute_result"
    }
   ],
   "source": [
    "car[\"Sales_in_thousands\"].fillna(car.groupby(\"Manufacturer\")[\"Sales_in_thousands\"].transform(\"median\"), inplace=True)\n",
    "car.isnull().sum()"
   ]
  },
  {
   "cell_type": "markdown",
   "metadata": {},
   "source": [
    "Dropping columns that do not help in prediction of sales."
   ]
  },
  {
   "cell_type": "code",
   "execution_count": 104,
   "metadata": {},
   "outputs": [],
   "source": [
    "car=car.drop(['Manufacturer','Model','Latest_Launch'],axis=1)\n"
   ]
  },
  {
   "cell_type": "code",
   "execution_count": 105,
   "metadata": {},
   "outputs": [
    {
     "name": "stdout",
     "output_type": "stream",
     "text": [
      "(156, 13)\n"
     ]
    },
    {
     "data": {
      "text/html": [
       "<div>\n",
       "<style scoped>\n",
       "    .dataframe tbody tr th:only-of-type {\n",
       "        vertical-align: middle;\n",
       "    }\n",
       "\n",
       "    .dataframe tbody tr th {\n",
       "        vertical-align: top;\n",
       "    }\n",
       "\n",
       "    .dataframe thead th {\n",
       "        text-align: right;\n",
       "    }\n",
       "</style>\n",
       "<table border=\"1\" class=\"dataframe\">\n",
       "  <thead>\n",
       "    <tr style=\"text-align: right;\">\n",
       "      <th></th>\n",
       "      <th>Sales_in_thousands</th>\n",
       "      <th>_year_resale_value</th>\n",
       "      <th>Vehicle_type</th>\n",
       "      <th>Price_in_thousands</th>\n",
       "      <th>Engine_size</th>\n",
       "      <th>Horsepower</th>\n",
       "      <th>Wheelbase</th>\n",
       "      <th>Width</th>\n",
       "      <th>Length</th>\n",
       "      <th>Curb_weight</th>\n",
       "      <th>Fuel_capacity</th>\n",
       "      <th>Fuel_efficiency</th>\n",
       "      <th>Power_perf_factor</th>\n",
       "    </tr>\n",
       "  </thead>\n",
       "  <tbody>\n",
       "    <tr>\n",
       "      <th>0</th>\n",
       "      <td>16.919</td>\n",
       "      <td>16.360</td>\n",
       "      <td>Passenger</td>\n",
       "      <td>21.50</td>\n",
       "      <td>1.8</td>\n",
       "      <td>140</td>\n",
       "      <td>101.2</td>\n",
       "      <td>67.3</td>\n",
       "      <td>172.4</td>\n",
       "      <td>2.639</td>\n",
       "      <td>13.2</td>\n",
       "      <td>28</td>\n",
       "      <td>58.280150</td>\n",
       "    </tr>\n",
       "    <tr>\n",
       "      <th>1</th>\n",
       "      <td>39.384</td>\n",
       "      <td>19.875</td>\n",
       "      <td>Passenger</td>\n",
       "      <td>28.40</td>\n",
       "      <td>3.2</td>\n",
       "      <td>225</td>\n",
       "      <td>108.1</td>\n",
       "      <td>70.3</td>\n",
       "      <td>192.9</td>\n",
       "      <td>3.517</td>\n",
       "      <td>17.2</td>\n",
       "      <td>25</td>\n",
       "      <td>91.370778</td>\n",
       "    </tr>\n",
       "    <tr>\n",
       "      <th>2</th>\n",
       "      <td>14.114</td>\n",
       "      <td>18.225</td>\n",
       "      <td>Passenger</td>\n",
       "      <td>29.00</td>\n",
       "      <td>3.2</td>\n",
       "      <td>225</td>\n",
       "      <td>106.9</td>\n",
       "      <td>70.6</td>\n",
       "      <td>192.0</td>\n",
       "      <td>3.470</td>\n",
       "      <td>17.2</td>\n",
       "      <td>26</td>\n",
       "      <td>90.345000</td>\n",
       "    </tr>\n",
       "    <tr>\n",
       "      <th>3</th>\n",
       "      <td>8.588</td>\n",
       "      <td>29.725</td>\n",
       "      <td>Passenger</td>\n",
       "      <td>42.00</td>\n",
       "      <td>3.5</td>\n",
       "      <td>210</td>\n",
       "      <td>114.6</td>\n",
       "      <td>71.4</td>\n",
       "      <td>196.6</td>\n",
       "      <td>3.850</td>\n",
       "      <td>18.0</td>\n",
       "      <td>22</td>\n",
       "      <td>91.389779</td>\n",
       "    </tr>\n",
       "    <tr>\n",
       "      <th>4</th>\n",
       "      <td>20.397</td>\n",
       "      <td>22.255</td>\n",
       "      <td>Passenger</td>\n",
       "      <td>23.99</td>\n",
       "      <td>1.8</td>\n",
       "      <td>150</td>\n",
       "      <td>102.6</td>\n",
       "      <td>68.2</td>\n",
       "      <td>178.0</td>\n",
       "      <td>2.998</td>\n",
       "      <td>16.4</td>\n",
       "      <td>27</td>\n",
       "      <td>62.777639</td>\n",
       "    </tr>\n",
       "  </tbody>\n",
       "</table>\n",
       "</div>"
      ],
      "text/plain": [
       "   Sales_in_thousands  _year_resale_value Vehicle_type  Price_in_thousands  \\\n",
       "0              16.919              16.360    Passenger               21.50   \n",
       "1              39.384              19.875    Passenger               28.40   \n",
       "2              14.114              18.225    Passenger               29.00   \n",
       "3               8.588              29.725    Passenger               42.00   \n",
       "4              20.397              22.255    Passenger               23.99   \n",
       "\n",
       "   Engine_size  Horsepower  Wheelbase  Width  Length  Curb_weight  \\\n",
       "0          1.8         140      101.2   67.3   172.4        2.639   \n",
       "1          3.2         225      108.1   70.3   192.9        3.517   \n",
       "2          3.2         225      106.9   70.6   192.0        3.470   \n",
       "3          3.5         210      114.6   71.4   196.6        3.850   \n",
       "4          1.8         150      102.6   68.2   178.0        2.998   \n",
       "\n",
       "   Fuel_capacity  Fuel_efficiency  Power_perf_factor  \n",
       "0           13.2               28          58.280150  \n",
       "1           17.2               25          91.370778  \n",
       "2           17.2               26          90.345000  \n",
       "3           18.0               22          91.389779  \n",
       "4           16.4               27          62.777639  "
      ]
     },
     "execution_count": 105,
     "metadata": {},
     "output_type": "execute_result"
    }
   ],
   "source": [
    "#car.head()\n",
    "print(car.shape)\n",
    "car.head()"
   ]
  },
  {
   "cell_type": "markdown",
   "metadata": {},
   "source": [
    "### Using the boxplot to understand the data distribution"
   ]
  },
  {
   "cell_type": "code",
   "execution_count": 106,
   "metadata": {},
   "outputs": [
    {
     "data": {
      "text/plain": [
       "<AxesSubplot:>"
      ]
     },
     "execution_count": 106,
     "metadata": {},
     "output_type": "execute_result"
    },
    {
     "data": {
      "image/png": "[encoded data removed]",
      "text/plain": [
       "<Figure size 432x288 with 1 Axes>"
      ]
     },
     "metadata": {
      "needs_background": "light"
     },
     "output_type": "display_data"
    }
   ],
   "source": [
    "sns.boxplot(data=car, orient=\"h\", palette=\"Set2\")"
   ]
  },
  {
   "cell_type": "code",
   "execution_count": 107,
   "metadata": {},
   "outputs": [
    {
     "data": {
      "text/plain": [
       "count           156\n",
       "unique            2\n",
       "top       Passenger\n",
       "freq            116\n",
       "Name: Vehicle_type, dtype: object"
      ]
     },
     "execution_count": 107,
     "metadata": {},
     "output_type": "execute_result"
    }
   ],
   "source": [
    "car['Vehicle_type'].describe()"
   ]
  },
  {
   "cell_type": "code",
   "execution_count": 108,
   "metadata": {},
   "outputs": [
    {
     "data": {
      "text/html": [
       "<div>\n",
       "<style scoped>\n",
       "    .dataframe tbody tr th:only-of-type {\n",
       "        vertical-align: middle;\n",
       "    }\n",
       "\n",
       "    .dataframe tbody tr th {\n",
       "        vertical-align: top;\n",
       "    }\n",
       "\n",
       "    .dataframe thead th {\n",
       "        text-align: right;\n",
       "    }\n",
       "</style>\n",
       "<table border=\"1\" class=\"dataframe\">\n",
       "  <thead>\n",
       "    <tr style=\"text-align: right;\">\n",
       "      <th></th>\n",
       "      <th>Sales_in_thousands</th>\n",
       "      <th>_year_resale_value</th>\n",
       "      <th>Price_in_thousands</th>\n",
       "      <th>Engine_size</th>\n",
       "      <th>Horsepower</th>\n",
       "      <th>Wheelbase</th>\n",
       "      <th>Width</th>\n",
       "      <th>Length</th>\n",
       "      <th>Curb_weight</th>\n",
       "      <th>Fuel_capacity</th>\n",
       "      <th>Fuel_efficiency</th>\n",
       "      <th>Power_perf_factor</th>\n",
       "    </tr>\n",
       "  </thead>\n",
       "  <tbody>\n",
       "    <tr>\n",
       "      <th>count</th>\n",
       "      <td>156.000000</td>\n",
       "      <td>156.000000</td>\n",
       "      <td>156.000000</td>\n",
       "      <td>156.000000</td>\n",
       "      <td>156.000000</td>\n",
       "      <td>156.000000</td>\n",
       "      <td>156.000000</td>\n",
       "      <td>156.000000</td>\n",
       "      <td>156.000000</td>\n",
       "      <td>156.000000</td>\n",
       "      <td>156.000000</td>\n",
       "      <td>156.000000</td>\n",
       "    </tr>\n",
       "    <tr>\n",
       "      <th>mean</th>\n",
       "      <td>57.858817</td>\n",
       "      <td>18.063571</td>\n",
       "      <td>27.401071</td>\n",
       "      <td>3.060897</td>\n",
       "      <td>185.948718</td>\n",
       "      <td>107.487179</td>\n",
       "      <td>71.150000</td>\n",
       "      <td>187.343590</td>\n",
       "      <td>3.380462</td>\n",
       "      <td>17.951923</td>\n",
       "      <td>23.833333</td>\n",
       "      <td>77.128857</td>\n",
       "    </tr>\n",
       "    <tr>\n",
       "      <th>std</th>\n",
       "      <td>74.966671</td>\n",
       "      <td>10.076941</td>\n",
       "      <td>14.305863</td>\n",
       "      <td>1.044653</td>\n",
       "      <td>56.700321</td>\n",
       "      <td>7.641303</td>\n",
       "      <td>3.451872</td>\n",
       "      <td>13.431754</td>\n",
       "      <td>0.629200</td>\n",
       "      <td>3.887921</td>\n",
       "      <td>4.256052</td>\n",
       "      <td>25.084045</td>\n",
       "    </tr>\n",
       "    <tr>\n",
       "      <th>min</th>\n",
       "      <td>0.110000</td>\n",
       "      <td>5.160000</td>\n",
       "      <td>9.235000</td>\n",
       "      <td>1.000000</td>\n",
       "      <td>55.000000</td>\n",
       "      <td>92.600000</td>\n",
       "      <td>62.600000</td>\n",
       "      <td>149.400000</td>\n",
       "      <td>1.895000</td>\n",
       "      <td>10.300000</td>\n",
       "      <td>15.000000</td>\n",
       "      <td>23.276272</td>\n",
       "    </tr>\n",
       "    <tr>\n",
       "      <th>25%</th>\n",
       "      <td>14.035000</td>\n",
       "      <td>12.527500</td>\n",
       "      <td>18.081250</td>\n",
       "      <td>2.300000</td>\n",
       "      <td>149.500000</td>\n",
       "      <td>103.000000</td>\n",
       "      <td>68.400000</td>\n",
       "      <td>177.575000</td>\n",
       "      <td>2.973000</td>\n",
       "      <td>15.800000</td>\n",
       "      <td>21.000000</td>\n",
       "      <td>60.567577</td>\n",
       "    </tr>\n",
       "    <tr>\n",
       "      <th>50%</th>\n",
       "      <td>29.213000</td>\n",
       "      <td>17.617500</td>\n",
       "      <td>23.099500</td>\n",
       "      <td>3.000000</td>\n",
       "      <td>177.500000</td>\n",
       "      <td>107.000000</td>\n",
       "      <td>70.550000</td>\n",
       "      <td>187.900000</td>\n",
       "      <td>3.355000</td>\n",
       "      <td>17.200000</td>\n",
       "      <td>24.000000</td>\n",
       "      <td>72.160636</td>\n",
       "    </tr>\n",
       "    <tr>\n",
       "      <th>75%</th>\n",
       "      <td>71.690250</td>\n",
       "      <td>18.089731</td>\n",
       "      <td>31.938750</td>\n",
       "      <td>3.575000</td>\n",
       "      <td>215.000000</td>\n",
       "      <td>112.200000</td>\n",
       "      <td>73.425000</td>\n",
       "      <td>196.125000</td>\n",
       "      <td>3.788750</td>\n",
       "      <td>19.575000</td>\n",
       "      <td>26.000000</td>\n",
       "      <td>89.623790</td>\n",
       "    </tr>\n",
       "    <tr>\n",
       "      <th>max</th>\n",
       "      <td>540.561000</td>\n",
       "      <td>67.550000</td>\n",
       "      <td>85.500000</td>\n",
       "      <td>8.000000</td>\n",
       "      <td>450.000000</td>\n",
       "      <td>138.700000</td>\n",
       "      <td>79.900000</td>\n",
       "      <td>224.500000</td>\n",
       "      <td>5.572000</td>\n",
       "      <td>32.000000</td>\n",
       "      <td>45.000000</td>\n",
       "      <td>188.144323</td>\n",
       "    </tr>\n",
       "  </tbody>\n",
       "</table>\n",
       "</div>"
      ],
      "text/plain": [
       "       Sales_in_thousands  _year_resale_value  Price_in_thousands  \\\n",
       "count          156.000000          156.000000          156.000000   \n",
       "mean            57.858817           18.063571           27.401071   \n",
       "std             74.966671           10.076941           14.305863   \n",
       "min              0.110000            5.160000            9.235000   \n",
       "25%             14.035000           12.527500           18.081250   \n",
       "50%             29.213000           17.617500           23.099500   \n",
       "75%             71.690250           18.089731           31.938750   \n",
       "max            540.561000           67.550000           85.500000   \n",
       "\n",
       "       Engine_size  Horsepower   Wheelbase       Width      Length  \\\n",
       "count   156.000000  156.000000  156.000000  156.000000  156.000000   \n",
       "mean      3.060897  185.948718  107.487179   71.150000  187.343590   \n",
       "std       1.044653   56.700321    7.641303    3.451872   13.431754   \n",
       "min       1.000000   55.000000   92.600000   62.600000  149.400000   \n",
       "25%       2.300000  149.500000  103.000000   68.400000  177.575000   \n",
       "50%       3.000000  177.500000  107.000000   70.550000  187.900000   \n",
       "75%       3.575000  215.000000  112.200000   73.425000  196.125000   \n",
       "max       8.000000  450.000000  138.700000   79.900000  224.500000   \n",
       "\n",
       "       Curb_weight  Fuel_capacity  Fuel_efficiency  Power_perf_factor  \n",
       "count   156.000000     156.000000       156.000000         156.000000  \n",
       "mean      3.380462      17.951923        23.833333          77.128857  \n",
       "std       0.629200       3.887921         4.256052          25.084045  \n",
       "min       1.895000      10.300000        15.000000          23.276272  \n",
       "25%       2.973000      15.800000        21.000000          60.567577  \n",
       "50%       3.355000      17.200000        24.000000          72.160636  \n",
       "75%       3.788750      19.575000        26.000000          89.623790  \n",
       "max       5.572000      32.000000        45.000000         188.144323  "
      ]
     },
     "execution_count": 108,
     "metadata": {},
     "output_type": "execute_result"
    }
   ],
   "source": [
    "car.describe()"
   ]
  },
  {
   "cell_type": "markdown",
   "metadata": {},
   "source": [
    "### Calculating and plotting heatmap correlation"
   ]
  },
  {
   "cell_type": "code",
   "execution_count": 109,
   "metadata": {},
   "outputs": [
    {
     "data": {
      "text/html": [
       "<div>\n",
       "<style scoped>\n",
       "    .dataframe tbody tr th:only-of-type {\n",
       "        vertical-align: middle;\n",
       "    }\n",
       "\n",
       "    .dataframe tbody tr th {\n",
       "        vertical-align: top;\n",
       "    }\n",
       "\n",
       "    .dataframe thead th {\n",
       "        text-align: right;\n",
       "    }\n",
       "</style>\n",
       "<table border=\"1\" class=\"dataframe\">\n",
       "  <thead>\n",
       "    <tr style=\"text-align: right;\">\n",
       "      <th></th>\n",
       "      <th>Sales_in_thousands</th>\n",
       "      <th>_year_resale_value</th>\n",
       "      <th>Price_in_thousands</th>\n",
       "      <th>Engine_size</th>\n",
       "      <th>Horsepower</th>\n",
       "      <th>Wheelbase</th>\n",
       "      <th>Width</th>\n",
       "      <th>Length</th>\n",
       "      <th>Curb_weight</th>\n",
       "      <th>Fuel_capacity</th>\n",
       "      <th>Fuel_efficiency</th>\n",
       "      <th>Power_perf_factor</th>\n",
       "    </tr>\n",
       "  </thead>\n",
       "  <tbody>\n",
       "    <tr>\n",
       "      <th>Sales_in_thousands</th>\n",
       "      <td>1.000000</td>\n",
       "      <td>-0.278950</td>\n",
       "      <td>-0.308751</td>\n",
       "      <td>0.037301</td>\n",
       "      <td>-0.190411</td>\n",
       "      <td>0.326628</td>\n",
       "      <td>0.157283</td>\n",
       "      <td>0.251017</td>\n",
       "      <td>-0.000593</td>\n",
       "      <td>0.064072</td>\n",
       "      <td>-0.017009</td>\n",
       "      <td>-0.219566</td>\n",
       "    </tr>\n",
       "    <tr>\n",
       "      <th>_year_resale_value</th>\n",
       "      <td>-0.278950</td>\n",
       "      <td>1.000000</td>\n",
       "      <td>0.822430</td>\n",
       "      <td>0.468813</td>\n",
       "      <td>0.696936</td>\n",
       "      <td>-0.047806</td>\n",
       "      <td>0.159591</td>\n",
       "      <td>0.023869</td>\n",
       "      <td>0.300296</td>\n",
       "      <td>0.275045</td>\n",
       "      <td>-0.357338</td>\n",
       "      <td>0.743218</td>\n",
       "    </tr>\n",
       "    <tr>\n",
       "      <th>Price_in_thousands</th>\n",
       "      <td>-0.308751</td>\n",
       "      <td>0.822430</td>\n",
       "      <td>1.000000</td>\n",
       "      <td>0.626910</td>\n",
       "      <td>0.838916</td>\n",
       "      <td>0.110451</td>\n",
       "      <td>0.328980</td>\n",
       "      <td>0.157119</td>\n",
       "      <td>0.527875</td>\n",
       "      <td>0.423073</td>\n",
       "      <td>-0.490249</td>\n",
       "      <td>0.897482</td>\n",
       "    </tr>\n",
       "    <tr>\n",
       "      <th>Engine_size</th>\n",
       "      <td>0.037301</td>\n",
       "      <td>0.468813</td>\n",
       "      <td>0.626910</td>\n",
       "      <td>1.000000</td>\n",
       "      <td>0.837360</td>\n",
       "      <td>0.472130</td>\n",
       "      <td>0.690398</td>\n",
       "      <td>0.541424</td>\n",
       "      <td>0.759525</td>\n",
       "      <td>0.663022</td>\n",
       "      <td>-0.733832</td>\n",
       "      <td>0.818198</td>\n",
       "    </tr>\n",
       "    <tr>\n",
       "      <th>Horsepower</th>\n",
       "      <td>-0.190411</td>\n",
       "      <td>0.696936</td>\n",
       "      <td>0.838916</td>\n",
       "      <td>0.837360</td>\n",
       "      <td>1.000000</td>\n",
       "      <td>0.286308</td>\n",
       "      <td>0.539158</td>\n",
       "      <td>0.393364</td>\n",
       "      <td>0.610637</td>\n",
       "      <td>0.499907</td>\n",
       "      <td>-0.611512</td>\n",
       "      <td>0.992926</td>\n",
       "    </tr>\n",
       "    <tr>\n",
       "      <th>Wheelbase</th>\n",
       "      <td>0.326628</td>\n",
       "      <td>-0.047806</td>\n",
       "      <td>0.110451</td>\n",
       "      <td>0.472130</td>\n",
       "      <td>0.286308</td>\n",
       "      <td>1.000000</td>\n",
       "      <td>0.683135</td>\n",
       "      <td>0.839639</td>\n",
       "      <td>0.651854</td>\n",
       "      <td>0.654044</td>\n",
       "      <td>-0.498075</td>\n",
       "      <td>0.258350</td>\n",
       "    </tr>\n",
       "    <tr>\n",
       "      <th>Width</th>\n",
       "      <td>0.157283</td>\n",
       "      <td>0.159591</td>\n",
       "      <td>0.328980</td>\n",
       "      <td>0.690398</td>\n",
       "      <td>0.539158</td>\n",
       "      <td>0.683135</td>\n",
       "      <td>1.000000</td>\n",
       "      <td>0.710435</td>\n",
       "      <td>0.721515</td>\n",
       "      <td>0.656302</td>\n",
       "      <td>-0.601539</td>\n",
       "      <td>0.510976</td>\n",
       "    </tr>\n",
       "    <tr>\n",
       "      <th>Length</th>\n",
       "      <td>0.251017</td>\n",
       "      <td>0.023869</td>\n",
       "      <td>0.157119</td>\n",
       "      <td>0.541424</td>\n",
       "      <td>0.393364</td>\n",
       "      <td>0.839639</td>\n",
       "      <td>0.710435</td>\n",
       "      <td>1.000000</td>\n",
       "      <td>0.628285</td>\n",
       "      <td>0.563540</td>\n",
       "      <td>-0.446256</td>\n",
       "      <td>0.354823</td>\n",
       "    </tr>\n",
       "    <tr>\n",
       "      <th>Curb_weight</th>\n",
       "      <td>-0.000593</td>\n",
       "      <td>0.300296</td>\n",
       "      <td>0.527875</td>\n",
       "      <td>0.759525</td>\n",
       "      <td>0.610637</td>\n",
       "      <td>0.651854</td>\n",
       "      <td>0.721515</td>\n",
       "      <td>0.628285</td>\n",
       "      <td>1.000000</td>\n",
       "      <td>0.863451</td>\n",
       "      <td>-0.818684</td>\n",
       "      <td>0.612533</td>\n",
       "    </tr>\n",
       "    <tr>\n",
       "      <th>Fuel_capacity</th>\n",
       "      <td>0.064072</td>\n",
       "      <td>0.275045</td>\n",
       "      <td>0.423073</td>\n",
       "      <td>0.663022</td>\n",
       "      <td>0.499907</td>\n",
       "      <td>0.654044</td>\n",
       "      <td>0.656302</td>\n",
       "      <td>0.563540</td>\n",
       "      <td>0.863451</td>\n",
       "      <td>1.000000</td>\n",
       "      <td>-0.800857</td>\n",
       "      <td>0.500009</td>\n",
       "    </tr>\n",
       "    <tr>\n",
       "      <th>Fuel_efficiency</th>\n",
       "      <td>-0.017009</td>\n",
       "      <td>-0.357338</td>\n",
       "      <td>-0.490249</td>\n",
       "      <td>-0.733832</td>\n",
       "      <td>-0.611512</td>\n",
       "      <td>-0.498075</td>\n",
       "      <td>-0.601539</td>\n",
       "      <td>-0.446256</td>\n",
       "      <td>-0.818684</td>\n",
       "      <td>-0.800857</td>\n",
       "      <td>1.000000</td>\n",
       "      <td>-0.604887</td>\n",
       "    </tr>\n",
       "    <tr>\n",
       "      <th>Power_perf_factor</th>\n",
       "      <td>-0.219566</td>\n",
       "      <td>0.743218</td>\n",
       "      <td>0.897482</td>\n",
       "      <td>0.818198</td>\n",
       "      <td>0.992926</td>\n",
       "      <td>0.258350</td>\n",
       "      <td>0.510976</td>\n",
       "      <td>0.354823</td>\n",
       "      <td>0.612533</td>\n",
       "      <td>0.500009</td>\n",
       "      <td>-0.604887</td>\n",
       "      <td>1.000000</td>\n",
       "    </tr>\n",
       "  </tbody>\n",
       "</table>\n",
       "</div>"
      ],
      "text/plain": [
       "                    Sales_in_thousands  _year_resale_value  \\\n",
       "Sales_in_thousands            1.000000           -0.278950   \n",
       "_year_resale_value           -0.278950            1.000000   \n",
       "Price_in_thousands           -0.308751            0.822430   \n",
       "Engine_size                   0.037301            0.468813   \n",
       "Horsepower                   -0.190411            0.696936   \n",
       "Wheelbase                     0.326628           -0.047806   \n",
       "Width                         0.157283            0.159591   \n",
       "Length                        0.251017            0.023869   \n",
       "Curb_weight                  -0.000593            0.300296   \n",
       "Fuel_capacity                 0.064072            0.275045   \n",
       "Fuel_efficiency              -0.017009           -0.357338   \n",
       "Power_perf_factor            -0.219566            0.743218   \n",
       "\n",
       "                    Price_in_thousands  Engine_size  Horsepower  Wheelbase  \\\n",
       "Sales_in_thousands           -0.308751     0.037301   -0.190411   0.326628   \n",
       "_year_resale_value            0.822430     0.468813    0.696936  -0.047806   \n",
       "Price_in_thousands            1.000000     0.626910    0.838916   0.110451   \n",
       "Engine_size                   0.626910     1.000000    0.837360   0.472130   \n",
       "Horsepower                    0.838916     0.837360    1.000000   0.286308   \n",
       "Wheelbase                     0.110451     0.472130    0.286308   1.000000   \n",
       "Width                         0.328980     0.690398    0.539158   0.683135   \n",
       "Length                        0.157119     0.541424    0.393364   0.839639   \n",
       "Curb_weight                   0.527875     0.759525    0.610637   0.651854   \n",
       "Fuel_capacity                 0.423073     0.663022    0.499907   0.654044   \n",
       "Fuel_efficiency              -0.490249    -0.733832   -0.611512  -0.498075   \n",
       "Power_perf_factor             0.897482     0.818198    0.992926   0.258350   \n",
       "\n",
       "                       Width    Length  Curb_weight  Fuel_capacity  \\\n",
       "Sales_in_thousands  0.157283  0.251017    -0.000593       0.064072   \n",
       "_year_resale_value  0.159591  0.023869     0.300296       0.275045   \n",
       "Price_in_thousands  0.328980  0.157119     0.527875       0.423073   \n",
       "Engine_size         0.690398  0.541424     0.759525       0.663022   \n",
       "Horsepower          0.539158  0.393364     0.610637       0.499907   \n",
       "Wheelbase           0.683135  0.839639     0.651854       0.654044   \n",
       "Width               1.000000  0.710435     0.721515       0.656302   \n",
       "Length              0.710435  1.000000     0.628285       0.563540   \n",
       "Curb_weight         0.721515  0.628285     1.000000       0.863451   \n",
       "Fuel_capacity       0.656302  0.563540     0.863451       1.000000   \n",
       "Fuel_efficiency    -0.601539 -0.446256    -0.818684      -0.800857   \n",
       "Power_perf_factor   0.510976  0.354823     0.612533       0.500009   \n",
       "\n",
       "                    Fuel_efficiency  Power_perf_factor  \n",
       "Sales_in_thousands        -0.017009          -0.219566  \n",
       "_year_resale_value        -0.357338           0.743218  \n",
       "Price_in_thousands        -0.490249           0.897482  \n",
       "Engine_size               -0.733832           0.818198  \n",
       "Horsepower                -0.611512           0.992926  \n",
       "Wheelbase                 -0.498075           0.258350  \n",
       "Width                     -0.601539           0.510976  \n",
       "Length                    -0.446256           0.354823  \n",
       "Curb_weight               -0.818684           0.612533  \n",
       "Fuel_capacity             -0.800857           0.500009  \n",
       "Fuel_efficiency            1.000000          -0.604887  \n",
       "Power_perf_factor         -0.604887           1.000000  "
      ]
     },
     "execution_count": 109,
     "metadata": {},
     "output_type": "execute_result"
    }
   ],
   "source": [
    "car.corr()"
   ]
  },
  {
   "cell_type": "code",
   "execution_count": 110,
   "metadata": {},
   "outputs": [],
   "source": [
    "car.columns\n",
    "car_corr=car[['Sales_in_thousands','_year_resale_value','Price_in_thousands','Engine_size','Horsepower','Wheelbase','Width','Length','Curb_weight','Fuel_capacity','Fuel_efficiency','Power_perf_factor']]"
   ]
  },
  {
   "cell_type": "code",
   "execution_count": 111,
   "metadata": {},
   "outputs": [
    {
     "data": {
      "text/plain": [
       "<AxesSubplot:>"
      ]
     },
     "execution_count": 111,
     "metadata": {},
     "output_type": "execute_result"
    },
    {
     "data": {
      "image/png": "[encoded data removed]",
      "text/plain": [
       "<Figure size 432x288 with 2 Axes>"
      ]
     },
     "metadata": {
      "needs_background": "light"
     },
     "output_type": "display_data"
    }
   ],
   "source": [
    "sns.heatmap( car_corr.corr(), annot=True )\n",
    "#,'Horsepower','Width','Length','Curb_weight','Fuel_capacity','Latest_Launch','Power_perf_factor'"
   ]
  },
  {
   "cell_type": "markdown",
   "metadata": {},
   "source": [
    "<a id=section3></a>\n",
    "\n",
    "## 3. Linear Regression using Python Scikit Learn"
   ]
  },
  {
   "cell_type": "markdown",
   "metadata": {},
   "source": [
    "<a id=section301></a>\n",
    "\n",
    "### 3.1 Preparing data for Linear Regression using Pandas"
   ]
  },
  {
   "cell_type": "markdown",
   "metadata": {},
   "source": [
    "One of the __assumptions for LinearRegression__ is that the independent variables should not be correlated. From the __heat map__ we see that there are some highly correlated variables (considering correlation>0.70 to be high).<br/><br/>\n",
    "__Ignoring the correlated variables and preparing a new dataFrame with columns that will be used for the algorithm:__ <br/>\n",
    "[''Vehicle_type', 'Price_in_thousands', 'Engine_size', 'Wheelbase', 'Fuel_efficiency']"
   ]
  },
  {
   "cell_type": "code",
   "execution_count": 112,
   "metadata": {},
   "outputs": [
    {
     "data": {
      "text/plain": [
       "Index(['Sales_in_thousands', '_year_resale_value', 'Vehicle_type',\n",
       "       'Price_in_thousands', 'Engine_size', 'Horsepower', 'Wheelbase', 'Width',\n",
       "       'Length', 'Curb_weight', 'Fuel_capacity', 'Fuel_efficiency',\n",
       "       'Power_perf_factor'],\n",
       "      dtype='object')"
      ]
     },
     "execution_count": 112,
     "metadata": {},
     "output_type": "execute_result"
    }
   ],
   "source": [
    "car.columns"
   ]
  },
  {
   "cell_type": "code",
   "execution_count": 113,
   "metadata": {},
   "outputs": [
    {
     "name": "stdout",
     "output_type": "stream",
     "text": [
      "<class 'pandas.core.frame.DataFrame'>\n",
      "RangeIndex: 156 entries, 0 to 155\n",
      "Data columns (total 6 columns):\n",
      " #   Column              Non-Null Count  Dtype  \n",
      "---  ------              --------------  -----  \n",
      " 0   Sales_in_thousands  156 non-null    float64\n",
      " 1   Vehicle_type        156 non-null    object \n",
      " 2   Price_in_thousands  156 non-null    float64\n",
      " 3   Engine_size         156 non-null    float64\n",
      " 4   Wheelbase           156 non-null    float64\n",
      " 5   Fuel_efficiency     156 non-null    int64  \n",
      "dtypes: float64(4), int64(1), object(1)\n",
      "memory usage: 7.4+ KB\n"
     ]
    }
   ],
   "source": [
    "car_new=car[['Sales_in_thousands','Vehicle_type', 'Price_in_thousands', 'Engine_size', 'Wheelbase', 'Fuel_efficiency']]\n",
    "\n",
    "#[['Sales_in_thousands','Vehicle_type', 'Price_in_thousands', 'Engine_size', 'Wheelbase', 'Fuel_efficiency']]\n",
    "car_new.head()\n",
    "car_new.info()"
   ]
  },
  {
   "cell_type": "markdown",
   "metadata": {},
   "source": [
    "### Converting the categorical variable 'Vehicle_type' to continuous using One-Hot-Encoding"
   ]
  },
  {
   "cell_type": "code",
   "execution_count": 114,
   "metadata": {},
   "outputs": [
    {
     "data": {
      "text/html": [
       "<div>\n",
       "<style scoped>\n",
       "    .dataframe tbody tr th:only-of-type {\n",
       "        vertical-align: middle;\n",
       "    }\n",
       "\n",
       "    .dataframe tbody tr th {\n",
       "        vertical-align: top;\n",
       "    }\n",
       "\n",
       "    .dataframe thead th {\n",
       "        text-align: right;\n",
       "    }\n",
       "</style>\n",
       "<table border=\"1\" class=\"dataframe\">\n",
       "  <thead>\n",
       "    <tr style=\"text-align: right;\">\n",
       "      <th></th>\n",
       "      <th>Sales_in_thousands</th>\n",
       "      <th>Price_in_thousands</th>\n",
       "      <th>Engine_size</th>\n",
       "      <th>Wheelbase</th>\n",
       "      <th>Fuel_efficiency</th>\n",
       "      <th>Vehicle_type_Car</th>\n",
       "      <th>Vehicle_type_Passenger</th>\n",
       "    </tr>\n",
       "  </thead>\n",
       "  <tbody>\n",
       "    <tr>\n",
       "      <th>0</th>\n",
       "      <td>16.919</td>\n",
       "      <td>21.50</td>\n",
       "      <td>1.8</td>\n",
       "      <td>101.2</td>\n",
       "      <td>28</td>\n",
       "      <td>0</td>\n",
       "      <td>1</td>\n",
       "    </tr>\n",
       "    <tr>\n",
       "      <th>1</th>\n",
       "      <td>39.384</td>\n",
       "      <td>28.40</td>\n",
       "      <td>3.2</td>\n",
       "      <td>108.1</td>\n",
       "      <td>25</td>\n",
       "      <td>0</td>\n",
       "      <td>1</td>\n",
       "    </tr>\n",
       "    <tr>\n",
       "      <th>2</th>\n",
       "      <td>14.114</td>\n",
       "      <td>29.00</td>\n",
       "      <td>3.2</td>\n",
       "      <td>106.9</td>\n",
       "      <td>26</td>\n",
       "      <td>0</td>\n",
       "      <td>1</td>\n",
       "    </tr>\n",
       "    <tr>\n",
       "      <th>3</th>\n",
       "      <td>8.588</td>\n",
       "      <td>42.00</td>\n",
       "      <td>3.5</td>\n",
       "      <td>114.6</td>\n",
       "      <td>22</td>\n",
       "      <td>0</td>\n",
       "      <td>1</td>\n",
       "    </tr>\n",
       "    <tr>\n",
       "      <th>4</th>\n",
       "      <td>20.397</td>\n",
       "      <td>23.99</td>\n",
       "      <td>1.8</td>\n",
       "      <td>102.6</td>\n",
       "      <td>27</td>\n",
       "      <td>0</td>\n",
       "      <td>1</td>\n",
       "    </tr>\n",
       "  </tbody>\n",
       "</table>\n",
       "</div>"
      ],
      "text/plain": [
       "   Sales_in_thousands  Price_in_thousands  Engine_size  Wheelbase  \\\n",
       "0              16.919               21.50          1.8      101.2   \n",
       "1              39.384               28.40          3.2      108.1   \n",
       "2              14.114               29.00          3.2      106.9   \n",
       "3               8.588               42.00          3.5      114.6   \n",
       "4              20.397               23.99          1.8      102.6   \n",
       "\n",
       "   Fuel_efficiency  Vehicle_type_Car  Vehicle_type_Passenger  \n",
       "0               28                 0                       1  \n",
       "1               25                 0                       1  \n",
       "2               26                 0                       1  \n",
       "3               22                 0                       1  \n",
       "4               27                 0                       1  "
      ]
     },
     "execution_count": 114,
     "metadata": {},
     "output_type": "execute_result"
    }
   ],
   "source": [
    "car_new=pd.get_dummies(car_new, columns=['Vehicle_type'])\n",
    "car_new.head()"
   ]
  },
  {
   "cell_type": "code",
   "execution_count": 115,
   "metadata": {},
   "outputs": [
    {
     "data": {
      "text/html": [
       "<div>\n",
       "<style scoped>\n",
       "    .dataframe tbody tr th:only-of-type {\n",
       "        vertical-align: middle;\n",
       "    }\n",
       "\n",
       "    .dataframe tbody tr th {\n",
       "        vertical-align: top;\n",
       "    }\n",
       "\n",
       "    .dataframe thead th {\n",
       "        text-align: right;\n",
       "    }\n",
       "</style>\n",
       "<table border=\"1\" class=\"dataframe\">\n",
       "  <thead>\n",
       "    <tr style=\"text-align: right;\">\n",
       "      <th></th>\n",
       "      <th>Sales_in_thousands</th>\n",
       "      <th>Price_in_thousands</th>\n",
       "      <th>Engine_size</th>\n",
       "      <th>Wheelbase</th>\n",
       "      <th>Fuel_efficiency</th>\n",
       "      <th>Vehicle_type_Car</th>\n",
       "    </tr>\n",
       "  </thead>\n",
       "  <tbody>\n",
       "    <tr>\n",
       "      <th>0</th>\n",
       "      <td>16.919</td>\n",
       "      <td>21.50</td>\n",
       "      <td>1.8</td>\n",
       "      <td>101.2</td>\n",
       "      <td>28</td>\n",
       "      <td>0</td>\n",
       "    </tr>\n",
       "    <tr>\n",
       "      <th>1</th>\n",
       "      <td>39.384</td>\n",
       "      <td>28.40</td>\n",
       "      <td>3.2</td>\n",
       "      <td>108.1</td>\n",
       "      <td>25</td>\n",
       "      <td>0</td>\n",
       "    </tr>\n",
       "    <tr>\n",
       "      <th>2</th>\n",
       "      <td>14.114</td>\n",
       "      <td>29.00</td>\n",
       "      <td>3.2</td>\n",
       "      <td>106.9</td>\n",
       "      <td>26</td>\n",
       "      <td>0</td>\n",
       "    </tr>\n",
       "    <tr>\n",
       "      <th>3</th>\n",
       "      <td>8.588</td>\n",
       "      <td>42.00</td>\n",
       "      <td>3.5</td>\n",
       "      <td>114.6</td>\n",
       "      <td>22</td>\n",
       "      <td>0</td>\n",
       "    </tr>\n",
       "    <tr>\n",
       "      <th>4</th>\n",
       "      <td>20.397</td>\n",
       "      <td>23.99</td>\n",
       "      <td>1.8</td>\n",
       "      <td>102.6</td>\n",
       "      <td>27</td>\n",
       "      <td>0</td>\n",
       "    </tr>\n",
       "    <tr>\n",
       "      <th>...</th>\n",
       "      <td>...</td>\n",
       "      <td>...</td>\n",
       "      <td>...</td>\n",
       "      <td>...</td>\n",
       "      <td>...</td>\n",
       "      <td>...</td>\n",
       "    </tr>\n",
       "    <tr>\n",
       "      <th>151</th>\n",
       "      <td>3.545</td>\n",
       "      <td>24.40</td>\n",
       "      <td>1.9</td>\n",
       "      <td>100.5</td>\n",
       "      <td>25</td>\n",
       "      <td>0</td>\n",
       "    </tr>\n",
       "    <tr>\n",
       "      <th>152</th>\n",
       "      <td>15.245</td>\n",
       "      <td>27.50</td>\n",
       "      <td>2.4</td>\n",
       "      <td>104.9</td>\n",
       "      <td>25</td>\n",
       "      <td>0</td>\n",
       "    </tr>\n",
       "    <tr>\n",
       "      <th>153</th>\n",
       "      <td>17.531</td>\n",
       "      <td>28.80</td>\n",
       "      <td>2.4</td>\n",
       "      <td>104.9</td>\n",
       "      <td>25</td>\n",
       "      <td>0</td>\n",
       "    </tr>\n",
       "    <tr>\n",
       "      <th>154</th>\n",
       "      <td>3.493</td>\n",
       "      <td>45.50</td>\n",
       "      <td>2.3</td>\n",
       "      <td>104.9</td>\n",
       "      <td>23</td>\n",
       "      <td>0</td>\n",
       "    </tr>\n",
       "    <tr>\n",
       "      <th>155</th>\n",
       "      <td>18.969</td>\n",
       "      <td>36.00</td>\n",
       "      <td>2.9</td>\n",
       "      <td>109.9</td>\n",
       "      <td>24</td>\n",
       "      <td>0</td>\n",
       "    </tr>\n",
       "  </tbody>\n",
       "</table>\n",
       "<p>156 rows × 6 columns</p>\n",
       "</div>"
      ],
      "text/plain": [
       "     Sales_in_thousands  Price_in_thousands  Engine_size  Wheelbase  \\\n",
       "0                16.919               21.50          1.8      101.2   \n",
       "1                39.384               28.40          3.2      108.1   \n",
       "2                14.114               29.00          3.2      106.9   \n",
       "3                 8.588               42.00          3.5      114.6   \n",
       "4                20.397               23.99          1.8      102.6   \n",
       "..                  ...                 ...          ...        ...   \n",
       "151               3.545               24.40          1.9      100.5   \n",
       "152              15.245               27.50          2.4      104.9   \n",
       "153              17.531               28.80          2.4      104.9   \n",
       "154               3.493               45.50          2.3      104.9   \n",
       "155              18.969               36.00          2.9      109.9   \n",
       "\n",
       "     Fuel_efficiency  Vehicle_type_Car  \n",
       "0                 28                 0  \n",
       "1                 25                 0  \n",
       "2                 26                 0  \n",
       "3                 22                 0  \n",
       "4                 27                 0  \n",
       "..               ...               ...  \n",
       "151               25                 0  \n",
       "152               25                 0  \n",
       "153               25                 0  \n",
       "154               23                 0  \n",
       "155               24                 0  \n",
       "\n",
       "[156 rows x 6 columns]"
      ]
     },
     "execution_count": 115,
     "metadata": {},
     "output_type": "execute_result"
    }
   ],
   "source": [
    "#Ignoring Vehicle_type_Passenger column\n",
    "\n",
    "car_new=car_new[['Sales_in_thousands','Price_in_thousands', 'Engine_size', 'Wheelbase', 'Fuel_efficiency','Vehicle_type_Car']]\n",
    "car_new"
   ]
  },
  {
   "cell_type": "markdown",
   "metadata": {},
   "source": [
    "### Standardization.\n",
    "Standardize features by removing the mean and scaling to unit standard deviation."
   ]
  },
  {
   "cell_type": "code",
   "execution_count": 23,
   "metadata": {},
   "outputs": [
    {
     "data": {
      "text/plain": [
       "numpy.ndarray"
      ]
     },
     "execution_count": 23,
     "metadata": {},
     "output_type": "execute_result"
    }
   ],
   "source": [
    "from sklearn.preprocessing import StandardScaler\n",
    "ss=StandardScaler().fit(car_new)\n",
    "car_new=ss.transform(car_new)\n",
    "type(car_new)\n"
   ]
  },
  {
   "cell_type": "code",
   "execution_count": 24,
   "metadata": {},
   "outputs": [
    {
     "data": {
      "text/plain": [
       "pandas.core.frame.DataFrame"
      ]
     },
     "execution_count": 24,
     "metadata": {},
     "output_type": "execute_result"
    }
   ],
   "source": [
    "# Converting ndarray to DataFrame\n",
    "\n",
    "car_new=pd.DataFrame(car_new)\n",
    "type(car_new)"
   ]
  },
  {
   "cell_type": "code",
   "execution_count": 25,
   "metadata": {},
   "outputs": [
    {
     "data": {
      "text/html": [
       "<div>\n",
       "<style scoped>\n",
       "    .dataframe tbody tr th:only-of-type {\n",
       "        vertical-align: middle;\n",
       "    }\n",
       "\n",
       "    .dataframe tbody tr th {\n",
       "        vertical-align: top;\n",
       "    }\n",
       "\n",
       "    .dataframe thead th {\n",
       "        text-align: right;\n",
       "    }\n",
       "</style>\n",
       "<table border=\"1\" class=\"dataframe\">\n",
       "  <thead>\n",
       "    <tr style=\"text-align: right;\">\n",
       "      <th></th>\n",
       "      <th>Sales_in_thousands</th>\n",
       "      <th>Price_in_thousands</th>\n",
       "      <th>Engine_size</th>\n",
       "      <th>Wheelbase</th>\n",
       "      <th>Fuel_efficiency</th>\n",
       "      <th>Vehicle_type_Car</th>\n",
       "    </tr>\n",
       "  </thead>\n",
       "  <tbody>\n",
       "    <tr>\n",
       "      <th>0</th>\n",
       "      <td>-0.547866</td>\n",
       "      <td>-0.413822</td>\n",
       "      <td>-1.210889</td>\n",
       "      <td>-0.825439</td>\n",
       "      <td>0.982151</td>\n",
       "      <td>-0.58722</td>\n",
       "    </tr>\n",
       "    <tr>\n",
       "      <th>1</th>\n",
       "      <td>-0.247234</td>\n",
       "      <td>0.070051</td>\n",
       "      <td>0.133586</td>\n",
       "      <td>0.080457</td>\n",
       "      <td>0.275002</td>\n",
       "      <td>-0.58722</td>\n",
       "    </tr>\n",
       "    <tr>\n",
       "      <th>2</th>\n",
       "      <td>-0.585403</td>\n",
       "      <td>0.112127</td>\n",
       "      <td>0.133586</td>\n",
       "      <td>-0.077090</td>\n",
       "      <td>0.510719</td>\n",
       "      <td>-0.58722</td>\n",
       "    </tr>\n",
       "    <tr>\n",
       "      <th>3</th>\n",
       "      <td>-0.659353</td>\n",
       "      <td>1.023772</td>\n",
       "      <td>0.421687</td>\n",
       "      <td>0.933837</td>\n",
       "      <td>-0.432146</td>\n",
       "      <td>-0.58722</td>\n",
       "    </tr>\n",
       "    <tr>\n",
       "      <th>4</th>\n",
       "      <td>-0.501322</td>\n",
       "      <td>-0.239207</td>\n",
       "      <td>-1.210889</td>\n",
       "      <td>-0.641634</td>\n",
       "      <td>0.746435</td>\n",
       "      <td>-0.58722</td>\n",
       "    </tr>\n",
       "  </tbody>\n",
       "</table>\n",
       "</div>"
      ],
      "text/plain": [
       "   Sales_in_thousands  Price_in_thousands  Engine_size  Wheelbase  \\\n",
       "0           -0.547866           -0.413822    -1.210889  -0.825439   \n",
       "1           -0.247234            0.070051     0.133586   0.080457   \n",
       "2           -0.585403            0.112127     0.133586  -0.077090   \n",
       "3           -0.659353            1.023772     0.421687   0.933837   \n",
       "4           -0.501322           -0.239207    -1.210889  -0.641634   \n",
       "\n",
       "   Fuel_efficiency  Vehicle_type_Car  \n",
       "0         0.982151          -0.58722  \n",
       "1         0.275002          -0.58722  \n",
       "2         0.510719          -0.58722  \n",
       "3        -0.432146          -0.58722  \n",
       "4         0.746435          -0.58722  "
      ]
     },
     "execution_count": 25,
     "metadata": {},
     "output_type": "execute_result"
    }
   ],
   "source": [
    "# Adding columns to the new Standardized DataFrame:\n",
    "car_new.columns=['Sales_in_thousands','Price_in_thousands', 'Engine_size', 'Wheelbase', 'Fuel_efficiency','Vehicle_type_Car']\n",
    "car_new.head()"
   ]
  },
  {
   "cell_type": "markdown",
   "metadata": {},
   "source": [
    "<a id=section302></a>\n",
    "\n",
    "### 3.2  Selecting independent features X and depedent variable y"
   ]
  },
  {
   "cell_type": "code",
   "execution_count": 118,
   "metadata": {},
   "outputs": [
    {
     "name": "stdout",
     "output_type": "stream",
     "text": [
      "<class 'pandas.core.frame.DataFrame'>\n",
      "(156, 5)\n"
     ]
    }
   ],
   "source": [
    "X = car_new[[ 'Price_in_thousands', 'Engine_size','Wheelbase', 'Fuel_efficiency','Vehicle_type_Car']]\n",
    "print(type(X))\n",
    "print(X.shape)"
   ]
  },
  {
   "cell_type": "code",
   "execution_count": 80,
   "metadata": {},
   "outputs": [
    {
     "name": "stdout",
     "output_type": "stream",
     "text": [
      "<class 'pandas.core.series.Series'>\n",
      "(156,)\n"
     ]
    }
   ],
   "source": [
    "y=car_new['Sales_in_thousands']\n",
    "print(type(y))\n",
    "print(y.shape)"
   ]
  },
  {
   "cell_type": "markdown",
   "metadata": {},
   "source": [
    "<a id=section303></a>\n",
    "\n",
    "### 3.3 Splitting X and y into training and test datasets"
   ]
  },
  {
   "cell_type": "code",
   "execution_count": 81,
   "metadata": {},
   "outputs": [],
   "source": [
    "from sklearn.model_selection import train_test_split\n",
    "\n",
    "X_train, X_test, y_train, y_test= train_test_split(X,y, test_size=0.25, random_state=1)"
   ]
  },
  {
   "cell_type": "code",
   "execution_count": 82,
   "metadata": {},
   "outputs": [
    {
     "name": "stdout",
     "output_type": "stream",
     "text": [
      "(117, 5)\n",
      "(39, 5)\n",
      "(117,)\n",
      "(39,)\n"
     ]
    }
   ],
   "source": [
    "print(X_train.shape)\n",
    "print(X_test.shape)\n",
    "print(y_train.shape)\n",
    "print(y_test.shape)"
   ]
  },
  {
   "cell_type": "markdown",
   "metadata": {},
   "source": [
    "<a id=section304></a>\n",
    "\n",
    "### 3.4 Fit Linear Regression Model in scikit-learn"
   ]
  },
  {
   "cell_type": "code",
   "execution_count": 83,
   "metadata": {},
   "outputs": [
    {
     "data": {
      "text/plain": [
       "LinearRegression(copy_X=True, fit_intercept=True, n_jobs=None, normalize=False)"
      ]
     },
     "execution_count": 83,
     "metadata": {},
     "output_type": "execute_result"
    }
   ],
   "source": [
    "from sklearn.linear_model import LinearRegression\n",
    "\n",
    "lr=LinearRegression()\n",
    "\n",
    "lr.fit(X_train,y_train)"
   ]
  },
  {
   "cell_type": "markdown",
   "metadata": {},
   "source": [
    "<a id=section305></a>\n",
    "\n",
    "### 3.5 Interpreting Model Coefficients"
   ]
  },
  {
   "cell_type": "code",
   "execution_count": 84,
   "metadata": {},
   "outputs": [
    {
     "name": "stdout",
     "output_type": "stream",
     "text": [
      "Intercept: 0.0007549700149005294\n",
      "Coefficients: [-0.46637562  0.243107    0.31100331  0.1216173   0.05457112]\n"
     ]
    }
   ],
   "source": [
    "print('Intercept:',lr.intercept_)                                            \n",
    "print('Coefficients:',lr.coef_)\n"
   ]
  },
  {
   "cell_type": "code",
   "execution_count": 85,
   "metadata": {},
   "outputs": [],
   "source": [
    "feature_cols=[ 'Price_in_thousands','Engine_size', 'Wheelbase', 'Fuel_efficiency','Vehicle_type_Car']"
   ]
  },
  {
   "cell_type": "code",
   "execution_count": 86,
   "metadata": {},
   "outputs": [],
   "source": [
    "feature_cols.insert(0,'Intercept')\n",
    "coef = lr.coef_.tolist()            \n",
    "coef.insert(0, lr.intercept_)       "
   ]
  },
  {
   "cell_type": "code",
   "execution_count": 87,
   "metadata": {},
   "outputs": [
    {
     "name": "stdout",
     "output_type": "stream",
     "text": [
      "Intercept 0.0007549700149005294\n",
      "Price_in_thousands -0.46637561771267494\n",
      "Engine_size 0.2431069956667923\n",
      "Wheelbase 0.31100331215003985\n",
      "Fuel_efficiency 0.12161729721033479\n",
      "Vehicle_type_Car 0.054571120769752\n"
     ]
    }
   ],
   "source": [
    "eq1 = zip(feature_cols, coef)\n",
    "\n",
    "for c1,c2 in eq1:\n",
    "    print(c1,c2)"
   ]
  },
  {
   "cell_type": "code",
   "execution_count": 88,
   "metadata": {},
   "outputs": [
    {
     "data": {
      "image/png": "[encoded data removed]",
      "text/plain": [
       "<Figure size 432x288 with 1 Axes>"
      ]
     },
     "metadata": {
      "needs_background": "light"
     },
     "output_type": "display_data"
    }
   ],
   "source": [
    "# Plotting the regression line\n",
    "line = lr.coef_*X+lr.intercept_\n",
    "\n",
    "# Plotting for the test data\n",
    "plt.plot(X, line);\n",
    "plt.show()"
   ]
  },
  {
   "cell_type": "code",
   "execution_count": 89,
   "metadata": {},
   "outputs": [
    {
     "data": {
      "text/plain": [
       "(39,)"
      ]
     },
     "execution_count": 89,
     "metadata": {},
     "output_type": "execute_result"
    }
   ],
   "source": [
    "y_pred_test = lr.predict(X_test)  \n",
    "y_pred_test.shape"
   ]
  },
  {
   "cell_type": "code",
   "execution_count": 90,
   "metadata": {},
   "outputs": [
    {
     "data": {
      "text/html": [
       "<div>\n",
       "<style scoped>\n",
       "    .dataframe tbody tr th:only-of-type {\n",
       "        vertical-align: middle;\n",
       "    }\n",
       "\n",
       "    .dataframe tbody tr th {\n",
       "        vertical-align: top;\n",
       "    }\n",
       "\n",
       "    .dataframe thead th {\n",
       "        text-align: right;\n",
       "    }\n",
       "</style>\n",
       "<table border=\"1\" class=\"dataframe\">\n",
       "  <thead>\n",
       "    <tr style=\"text-align: right;\">\n",
       "      <th></th>\n",
       "      <th>0</th>\n",
       "    </tr>\n",
       "  </thead>\n",
       "  <tbody>\n",
       "    <tr>\n",
       "      <th>0</th>\n",
       "      <td>-0.043712</td>\n",
       "    </tr>\n",
       "    <tr>\n",
       "      <th>1</th>\n",
       "      <td>-0.044713</td>\n",
       "    </tr>\n",
       "    <tr>\n",
       "      <th>2</th>\n",
       "      <td>0.194188</td>\n",
       "    </tr>\n",
       "    <tr>\n",
       "      <th>3</th>\n",
       "      <td>0.189923</td>\n",
       "    </tr>\n",
       "    <tr>\n",
       "      <th>4</th>\n",
       "      <td>-0.038810</td>\n",
       "    </tr>\n",
       "  </tbody>\n",
       "</table>\n",
       "</div>"
      ],
      "text/plain": [
       "          0\n",
       "0 -0.043712\n",
       "1 -0.044713\n",
       "2  0.194188\n",
       "3  0.189923\n",
       "4 -0.038810"
      ]
     },
     "execution_count": 90,
     "metadata": {},
     "output_type": "execute_result"
    }
   ],
   "source": [
    "pred_test= pd.DataFrame(y_pred_test)\n",
    "pred_test.head()"
   ]
  },
  {
   "cell_type": "code",
   "execution_count": 91,
   "metadata": {},
   "outputs": [],
   "source": [
    "y_pred_train = lr.predict(X_train)                                                    "
   ]
  },
  {
   "cell_type": "code",
   "execution_count": 92,
   "metadata": {},
   "outputs": [
    {
     "data": {
      "text/html": [
       "<div>\n",
       "<style scoped>\n",
       "    .dataframe tbody tr th:only-of-type {\n",
       "        vertical-align: middle;\n",
       "    }\n",
       "\n",
       "    .dataframe tbody tr th {\n",
       "        vertical-align: top;\n",
       "    }\n",
       "\n",
       "    .dataframe thead th {\n",
       "        text-align: right;\n",
       "    }\n",
       "</style>\n",
       "<table border=\"1\" class=\"dataframe\">\n",
       "  <thead>\n",
       "    <tr style=\"text-align: right;\">\n",
       "      <th></th>\n",
       "      <th>0</th>\n",
       "    </tr>\n",
       "  </thead>\n",
       "  <tbody>\n",
       "    <tr>\n",
       "      <th>0</th>\n",
       "      <td>-2.139632</td>\n",
       "    </tr>\n",
       "    <tr>\n",
       "      <th>1</th>\n",
       "      <td>-0.100203</td>\n",
       "    </tr>\n",
       "    <tr>\n",
       "      <th>2</th>\n",
       "      <td>-0.064811</td>\n",
       "    </tr>\n",
       "    <tr>\n",
       "      <th>3</th>\n",
       "      <td>-2.067780</td>\n",
       "    </tr>\n",
       "    <tr>\n",
       "      <th>4</th>\n",
       "      <td>0.087261</td>\n",
       "    </tr>\n",
       "  </tbody>\n",
       "</table>\n",
       "</div>"
      ],
      "text/plain": [
       "          0\n",
       "0 -2.139632\n",
       "1 -0.100203\n",
       "2 -0.064811\n",
       "3 -2.067780\n",
       "4  0.087261"
      ]
     },
     "execution_count": 92,
     "metadata": {},
     "output_type": "execute_result"
    }
   ],
   "source": [
    "pred_train= pd.DataFrame(y_pred_train)\n",
    "pred_train.head()"
   ]
  },
  {
   "cell_type": "markdown",
   "metadata": {},
   "source": [
    "<a id=section4></a>\n",
    "## 4. Model evaluation \n"
   ]
  },
  {
   "cell_type": "markdown",
   "metadata": {},
   "source": [
    "__Error__ is the _deviation_ of the values _predicted_ by the model with the _true_ values.<br/>\n",
    "For example, if a model predicts that for 'x' no. of studying hours the student will score 60 marks, but the actually the student scores just 45 marks, then the error in prediction will be 15 marks.<br/>\n",
    "Below are the types of error we will be calculating for our _linear regression model_:\n",
    "- Mean Absolute Error\n",
    "- Mean Squared Error\n",
    "- Root Mean Squared Error"
   ]
  },
  {
   "cell_type": "markdown",
   "metadata": {},
   "source": [
    "<a id=section401></a>\n",
    "### 4.1 Model Evaluation using __metrics.__"
   ]
  },
  {
   "cell_type": "markdown",
   "metadata": {},
   "source": [
    "__Mean Absolute Error__ (MAE) is the mean of the absolute value of the errors:\n",
    "$$\\frac 1n\\sum_{i=1}^n|y_i-\\hat{y}_i|$$\n",
    "\n",
    "__Evaluating the model using MAE for both train and test__"
   ]
  },
  {
   "cell_type": "code",
   "execution_count": 93,
   "metadata": {},
   "outputs": [
    {
     "name": "stdout",
     "output_type": "stream",
     "text": [
      "MAE for training set is 0.5926773495866763\n",
      "MAE for test set is 0.5653726622349311\n"
     ]
    }
   ],
   "source": [
    "MAE_train = metrics.mean_absolute_error(y_train, y_pred_train)\n",
    "MAE_test = metrics.mean_absolute_error(y_test, y_pred_test)\n",
    "print('MAE for training set is {}'.format(MAE_train))\n",
    "print('MAE for test set is {}'.format(MAE_test))"
   ]
  },
  {
   "cell_type": "markdown",
   "metadata": {},
   "source": [
    "__Mean Squared Error__ (MSE) is the mean of the squared errors:\n",
    "$$\\frac 1n\\sum_{i=1}^n(y_i-\\hat{y}_i)^2$$\n",
    "\n",
    "__Evaluating the model using MSE for both train and test__"
   ]
  },
  {
   "cell_type": "code",
   "execution_count": 94,
   "metadata": {},
   "outputs": [
    {
     "name": "stdout",
     "output_type": "stream",
     "text": [
      "MSE for training set is 0.7866409107994231\n",
      "MSE for test set is 0.6399909500295642\n"
     ]
    }
   ],
   "source": [
    "MSE_train = metrics.mean_squared_error(y_train, y_pred_train)\n",
    "MSE_test = metrics.mean_squared_error(y_test, y_pred_test)\n",
    "print('MSE for training set is {}'.format(MSE_train))\n",
    "print('MSE for test set is {}'.format(MSE_test))"
   ]
  },
  {
   "cell_type": "markdown",
   "metadata": {},
   "source": [
    "__Root Mean Squared Error__ (RMSE) is the square root of the mean of the squared errors:\n",
    "\n",
    "$$\\sqrt{\\frac 1n\\sum_{i=1}^n(y_i-\\hat{y}_i)^2}$$\n",
    "\n",
    "__Evaluating the model using RMSE for both train and test__"
   ]
  },
  {
   "cell_type": "code",
   "execution_count": 95,
   "metadata": {},
   "outputs": [
    {
     "name": "stdout",
     "output_type": "stream",
     "text": [
      "RMSE for training set is 0.8869277934530089\n",
      "RMSE for test set is 0.7999943437484819\n"
     ]
    }
   ],
   "source": [
    "from sklearn import metrics\n",
    "\n",
    "RMSE_train = np.sqrt( metrics.mean_squared_error(y_train, y_pred_train))\n",
    "RMSE_test = np.sqrt(metrics.mean_squared_error(y_test, y_pred_test))\n",
    "print('RMSE for training set is {}'.format(RMSE_train))\n",
    "print('RMSE for test set is {}'.format(RMSE_test))"
   ]
  },
  {
   "cell_type": "markdown",
   "metadata": {},
   "source": [
    "Comparing these metrics:\n",
    "\n",
    "- __MAE__ is the easiest to understand, because it's the __average error.__ \n",
    "- __MSE__ is more popular than MAE, because MSE \"punishes\" larger errors.\n",
    "- Lower the MAE & MSE value, the higher the accuracy of prediction as there would be excellent match between the actual and predicted data set. \n",
    "- __RMSE__ is even more popular than MSE, because RMSE is _interpretable_ in the \"y\" units.\n",
    "    - Easier to put in context as it's the same units as our response variable.\n",
    "    - RMSE values between 0.2 and 0.5 shows that the model can relatively predict the data accurately. "
   ]
  },
  {
   "cell_type": "markdown",
   "metadata": {},
   "source": [
    "<a id=section402></a>\n",
    "### 4.2 Evaluate the model using R-square value for both train and test."
   ]
  },
  {
   "cell_type": "markdown",
   "metadata": {},
   "source": [
    "- There is one more method to evaluate linear regression model and that is by using the __Rsquared__ value.<br/>\n",
    "- R-squared is the **proportion of variance explained**, meaning the proportion of variance in the observed data that is explained by the model, or the reduction in error over the **null model**. (The null model just predicts the mean of the observed response, and thus it has an intercept and no slope.)\n",
    "\n",
    "- R-squared is between 0 and 1, and higher is better because it means that more variance is explained by the model. But there is one shortcoming of Rsquare method and that is **R-squared will always increase as you add more features to the model**, even if they are unrelated to the response. Thus, selecting the model with the highest R-squared is not a reliable approach for choosing the best linear model.\n",
    "\n",
    "There is alternative to R-squared called **adjusted R-squared** that penalizes model complexity (to control for overfitting)."
   ]
  },
  {
   "cell_type": "code",
   "execution_count": 60,
   "metadata": {},
   "outputs": [
    {
     "name": "stdout",
     "output_type": "stream",
     "text": [
      "R-square value for training set is 0.17233473638414964\n",
      "R-square value for training set is 0.14185903115387777\n"
     ]
    }
   ],
   "source": [
    "from sklearn.metrics import r2_score\n",
    "def lr():\n",
    "    R2_train = r2_score(y_train, y_pred_train) \n",
    "    R2_test = r2_score(y_test, y_pred_test) \n",
    "    print('R-square value for training set is {}'.format(R2_train))\n",
    "    print('R-square value for training set is {}'.format(R2_test))\n",
    "lr()"
   ]
  },
  {
   "cell_type": "markdown",
   "metadata": {},
   "source": [
    "__I performed LinearRegression on the given dataset multiple times with different settings as: manipulating X columns (col. combinations, removing outliers) and tuning parameters in train_test_split:<br/>\n",
    "Inspite of various trials, the Residual Error values did not seem to reduce below RMSE_train=0.89 and RMSE_test= 0.80. These are not very ideal values for RMSE__"
   ]
  }
 ],
 "metadata": {
  "kernelspec": {
   "display_name": "Python 3",
   "language": "python",
   "name": "python3"
  },
  "language_info": {
   "codemirror_mode": {
    "name": "ipython",
    "version": 3
   },
   "file_extension": ".py",
   "mimetype": "text/x-python",
   "name": "python",
   "nbconvert_exporter": "python",
   "pygments_lexer": "ipython3",
   "version": "3.7.6"
  }
 },
 "nbformat": 4,
 "nbformat_minor": 4
}
